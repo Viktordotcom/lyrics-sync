{
 "cells": [
  {
   "attachments": {},
   "cell_type": "markdown",
   "metadata": {},
   "source": [
    "## Demo"
   ]
  },
  {
   "attachments": {},
   "cell_type": "markdown",
   "metadata": {},
   "source": [
    "### Using pre-trained model (facebook/wav2vec2-large-960h-lv60-self)"
   ]
  },
  {
   "cell_type": "code",
   "execution_count": 2,
   "metadata": {},
   "outputs": [],
   "source": [
    "audio_path = \"songs/Dolly Parton - Jolene.mp3\"\n",
    "lyrics_path = \"lyrics/Dolly Parton - Jolene.txt\""
   ]
  },
  {
   "attachments": {},
   "cell_type": "markdown",
   "metadata": {},
   "source": [
    "### Using Fine-tuned model\n",
    "\n",
    "Please update your model's id and path in lsync/config.py"
   ]
  },
  {
   "cell_type": "code",
   "execution_count": 3,
   "metadata": {},
   "outputs": [],
   "source": [
    "YOUR_MODEL_ID = \"en-finetuned-base\"\n",
    "YOUR_MODEL_BLANK_ID = 29"
   ]
  },
  {
   "cell_type": "code",
   "execution_count": 4,
   "metadata": {},
   "outputs": [
    {
     "data": {
      "application/vnd.jupyter.widget-view+json": {
       "model_id": "2eb2499a69884b6e83f2f9c6a3577a88",
       "version_major": 2,
       "version_minor": 0
      },
      "text/plain": [
       "Downloading (…)rocessor_config.json:   0%|          | 0.00/215 [00:00<?, ?B/s]"
      ]
     },
     "metadata": {},
     "output_type": "display_data"
    },
    {
     "name": "stderr",
     "output_type": "stream",
     "text": [
      "c:\\Users\\User\\.conda\\envs\\lyrics-sync\\lib\\site-packages\\huggingface_hub\\file_download.py:133: UserWarning: `huggingface_hub` cache-system uses symlinks by default to efficiently store duplicated files but your machine does not support them in C:\\Users\\User\\.cache\\huggingface\\hub. Caching files will still work but in a degraded version that might require more space on your disk. This warning can be disabled by setting the `HF_HUB_DISABLE_SYMLINKS_WARNING` environment variable. For more details, see https://huggingface.co/docs/huggingface_hub/how-to-cache#limitations.\n",
      "To support symlinks on Windows, you either need to activate Developer Mode or to run Python as an administrator. In order to see activate developer mode, see this article: https://docs.microsoft.com/en-us/windows/apps/get-started/enable-your-device-for-development\n",
      "  warnings.warn(message)\n"
     ]
    },
    {
     "data": {
      "application/vnd.jupyter.widget-view+json": {
       "model_id": "238daae33d184dd1a8dcfcff9f278174",
       "version_major": 2,
       "version_minor": 0
      },
      "text/plain": [
       "Downloading tokenizer_config.json:   0%|          | 0.00/330 [00:00<?, ?B/s]"
      ]
     },
     "metadata": {},
     "output_type": "display_data"
    },
    {
     "data": {
      "application/vnd.jupyter.widget-view+json": {
       "model_id": "0d94918727d74a868f68b747d6e9bd90",
       "version_major": 2,
       "version_minor": 0
      },
      "text/plain": [
       "Downloading vocab.json:   0%|          | 0.00/1.17k [00:00<?, ?B/s]"
      ]
     },
     "metadata": {},
     "output_type": "display_data"
    },
    {
     "data": {
      "application/vnd.jupyter.widget-view+json": {
       "model_id": "45dee74fdca34189b971448b221753b3",
       "version_major": 2,
       "version_minor": 0
      },
      "text/plain": [
       "Downloading added_tokens.json:   0%|          | 0.00/30.0 [00:00<?, ?B/s]"
      ]
     },
     "metadata": {},
     "output_type": "display_data"
    },
    {
     "data": {
      "application/vnd.jupyter.widget-view+json": {
       "model_id": "be7533a0b85a458eb28d35397da1b709",
       "version_major": 2,
       "version_minor": 0
      },
      "text/plain": [
       "Downloading (…)cial_tokens_map.json:   0%|          | 0.00/2.59k [00:00<?, ?B/s]"
      ]
     },
     "metadata": {},
     "output_type": "display_data"
    },
    {
     "data": {
      "application/vnd.jupyter.widget-view+json": {
       "model_id": "75e18976093b4f92a604018bb53ef575",
       "version_major": 2,
       "version_minor": 0
      },
      "text/plain": [
       "Downloading config.json:   0%|          | 0.00/2.27k [00:00<?, ?B/s]"
      ]
     },
     "metadata": {},
     "output_type": "display_data"
    },
    {
     "data": {
      "application/vnd.jupyter.widget-view+json": {
       "model_id": "96df21d0b6eb43e189055fadb8289a90",
       "version_major": 2,
       "version_minor": 0
      },
      "text/plain": [
       "Downloading pytorch_model.bin:   0%|          | 0.00/1.27G [00:00<?, ?B/s]"
      ]
     },
     "metadata": {},
     "output_type": "display_data"
    },
    {
     "name": "stderr",
     "output_type": "stream",
     "text": [
      "c:\\Users\\User\\.conda\\envs\\lyrics-sync\\lib\\site-packages\\transformers\\modeling_utils.py:446: FutureWarning: You are using `torch.load` with `weights_only=False` (the current default value), which uses the default pickle module implicitly. It is possible to construct malicious pickle data which will execute arbitrary code during unpickling (See https://github.com/pytorch/pytorch/blob/main/SECURITY.md#untrusted-models for more details). In a future release, the default value for `weights_only` will be flipped to `True`. This limits the functions that could be executed during unpickling. Arbitrary objects will no longer be allowed to be loaded via this mode unless they are explicitly allowlisted by the user via `torch.serialization.add_safe_globals`. We recommend you start setting `weights_only=True` for any use case where you don't have full control of the loaded file. Please open an issue on GitHub for any issues related to this experimental feature.\n",
      "  return torch.load(checkpoint_file, map_location=\"cpu\")\n",
      "c:\\Users\\User\\.conda\\envs\\lyrics-sync\\lib\\site-packages\\torch\\nn\\utils\\weight_norm.py:143: FutureWarning: `torch.nn.utils.weight_norm` is deprecated in favor of `torch.nn.utils.parametrizations.weight_norm`.\n",
      "  WeightNorm.apply(module, name, dim)\n",
      "Some weights of the model checkpoint at nguyenvulebinh/lyric-alignment were not used when initializing Wav2Vec2ForCTC: ['feature_transform.bn1.num_batches_tracked', 'feature_transform.bn2.running_var', 'feature_transform.linear2.bias', 'feature_transform.linear3.weight', 'feature_transform.bn1.weight', 'feature_transform.bn3.running_mean', 'feature_transform.bn3.bias', 'feature_transform.bn3.running_var', 'feature_transform.linear3.bias', 'feature_transform.bn2.num_batches_tracked', 'feature_transform.bn2.weight', 'feature_transform.linear2.weight', 'feature_transform.bn3.num_batches_tracked', 'feature_transform.bn3.weight', 'feature_transform.bn1.running_mean', 'feature_transform.bn2.bias', 'feature_transform.linear1.weight', 'feature_transform.bn2.running_mean', 'feature_transform.bn1.running_var', 'feature_transform.bn1.bias', 'feature_transform.linear1.bias']\n",
      "- This IS expected if you are initializing Wav2Vec2ForCTC from the checkpoint of a model trained on another task or with another architecture (e.g. initializing a BertForSequenceClassification model from a BertForPreTraining model).\n",
      "- This IS NOT expected if you are initializing Wav2Vec2ForCTC from the checkpoint of a model that you expect to be exactly identical (initializing a BertForSequenceClassification model from a BertForSequenceClassification model).\n"
     ]
    },
    {
     "name": "stdout",
     "output_type": "stream",
     "text": [
      "[00:00.00] <00:00.00> Jolene, <00:00.14> <00:00.16> Jolene, <00:00.30> <00:00.32> Jolene, <00:00.46> <00:00.48> Jolene <00:00.60>\n",
      "[00:00.62] <00:00.62> I'm <00:00.68> <00:00.70> beggin' <00:00.84> <00:00.86> of <00:00.90> <00:00.92> you, <00:01.00>\n",
      "[00:01.02] <00:01.02> please <00:01.14> <00:01.15> don't <00:01.26> <00:01.28> take <00:01.36> <00:01.38> my <00:01.41> <00:01.43> man <00:01.50>\n",
      "[00:01.52] <00:01.52> Jolene, <00:01.66> <00:01.68> Jolene, <00:01.82> <00:01.84> Jolene, <00:01.98> <00:02.00> Jolene <00:02.16>\n",
      "[00:02.18] <00:02.18> Please <00:02.30> <00:02.31> don't <00:02.41> <00:02.43> take <00:02.52> <00:02.54> him <00:02.62>\n",
      "[00:02.64] <00:02.64> just <00:02.72> <00:02.74> because <00:02.87> <00:02.89> you <00:02.96> <00:02.98> can <00:03.04>\n",
      "[00:03.06] <00:03.06> Your <00:03.16> <00:03.18> beauty <00:03.30> <00:03.32> is <00:03.35> <00:03.37> beyond <00:03.50> <00:03.52> compare <00:03.66>\n",
      "[00:03.68] <00:03.68> With <00:03.76> <00:03.78> flaming <00:03.92> <00:03.94> locks <00:04.06> <00:04.08> of <00:04.12> <00:04.13> auburn <00:04.25> <00:04.28> hair <00:04.36>\n",
      "[00:04.37] <00:04.37> With <00:04.46> <00:04.48> ivory <00:04.58> <00:04.60> skin <00:04.67> <00:04.70> and <00:04.75>\n",
      "[00:04.78] <00:04.78> eyes <00:04.86> <00:04.87> of <00:04.92> <00:04.94> emerald <00:05.08> <00:05.10> green <00:05.20>\n",
      "[00:05.21] <00:05.21> Your <00:05.29> <00:05.32> smile <00:05.41> <00:05.44> is <00:05.48> <00:05.50> like <00:05.58>\n",
      "[00:05.60] <00:05.60> a <00:05.62> <00:05.63> breath <00:05.75> <00:05.78> of <00:05.82> <00:05.83> spring <00:05.96>\n",
      "[00:05.98] <00:05.98> Your <00:06.06> <00:06.08> voice <00:06.17> <00:06.20> is <00:06.24> <00:06.25> soft <00:06.33> <00:06.36> like <00:06.44> <00:06.46> summer <00:06.58> <00:06.60> rain <00:06.67>\n",
      "[00:06.70] <00:06.70> And <00:06.75> <00:06.78> I <00:06.79> <00:06.82> cannot <00:06.94> <00:06.96> compete <00:07.10> <00:07.12> with <00:07.20> <00:07.21> you, <00:07.29> <00:07.32> Jolene <00:07.44>\n",
      "[00:07.46] <00:07.46> He <00:07.50> <00:07.52> talks <00:07.62> <00:07.64> about <00:07.74> <00:07.75> you <00:07.82> <00:07.83> in <00:07.87> <00:07.90> his <00:07.96> <00:07.98> sleep <00:08.08>\n",
      "[00:08.09] <00:08.09> And <00:08.16> <00:08.17> there's <00:08.32> <00:08.33> nothin' <00:08.48> <00:08.50> I <00:08.51> <00:08.54> can <00:08.59> <00:08.62> do <00:08.66> <00:08.70> to <00:08.74> <00:08.75> keep <00:08.83>\n",
      "[00:08.85] <00:08.85> From <00:08.93> <00:08.96> cryin' <00:09.09> <00:09.12> when <00:09.20> <00:09.22> he <00:09.25> <00:09.27> calls <00:09.38> <00:09.40> your <00:09.48> <00:09.50> name, <00:09.59> <00:09.62> Jolene <00:09.74>\n",
      "[00:09.75] <00:09.75> And <00:09.82> <00:09.83> I <00:09.85> <00:09.88> can <00:09.93> <00:09.96> easily <00:10.08> <00:10.09> understand <00:10.30>\n",
      "[00:10.32] <00:10.32> How <00:10.38> <00:10.40> you <00:10.46> <00:10.48> could <00:10.58> <00:10.59> easily <00:10.72> <00:10.74> take <00:10.82> <00:10.83> my <00:10.88> <00:10.90> man <00:10.96>\n",
      "[00:10.98] <00:10.98> But <00:11.04> <00:11.06> you <00:11.12> <00:11.14> don't <00:11.24> <00:11.25> know <00:11.33> <00:11.35> what <00:11.43>\n",
      "[00:11.46] <00:11.46> he <00:11.50> <00:11.51> means <00:11.62> <00:11.64> to <00:11.67> <00:11.70> me, <00:11.80> <00:11.82> Jolene <00:11.96>\n",
      "[00:11.98] <00:11.98> Jolene, <00:12.12> <00:12.14> Jolene, <00:12.28> <00:12.30> Jolene, <00:12.43> <00:12.46> Jolene <00:12.58>\n",
      "[00:12.59] <00:12.59> I'm <00:12.66> <00:12.67> begging <00:12.82> <00:12.83> of <00:12.88> <00:12.90> you, <00:12.98>\n",
      "[00:13.00] <00:13.00> please <00:13.12> <00:13.14> don't <00:13.24> <00:13.25> take <00:13.33> <00:13.35> my <00:13.40> <00:13.41> man <00:13.48>\n",
      "[00:13.50] <00:13.50> Jolene, <00:13.64> <00:13.66> Jolene, <00:13.80> <00:13.82> Jolene, <00:13.96> <00:13.98> Jolene <00:14.09>\n",
      "[00:14.12] <00:14.12> Please <00:14.24> <00:14.25> don't <00:14.38> <00:14.40> take <00:14.48> <00:14.50> him <00:14.56>\n",
      "[00:14.58] <00:14.58> just <00:14.66> <00:14.67> because <00:14.82> <00:14.83> you <00:14.90> <00:14.92> can <00:14.98>\n",
      "[00:15.00] <00:15.00> You <00:15.06> <00:15.08> could <00:15.17> <00:15.20> have <00:15.28> <00:15.30> your <00:15.38> <00:15.40> choice <00:15.51> <00:15.54> of <00:15.58> <00:15.59> men <00:15.66>\n",
      "[00:15.67] <00:15.67> But <00:15.74> <00:15.75> I <00:15.78> <00:15.80> could <00:15.90> <00:15.92> never <00:16.01> <00:16.03> love <00:16.12> <00:16.14> again <00:16.24>\n",
      "[00:16.26] <00:16.26> He's <00:16.33> <00:16.35> the <00:16.42> <00:16.44> only <00:16.51> <00:16.53> one <00:16.60> <00:16.62> for <00:16.67> <00:16.69> me, <00:16.76> <00:16.78> Jolene <00:16.89>\n",
      "[00:16.92] <00:16.92> I <00:16.94> <00:16.96> had <00:17.01> <00:17.03> to <00:17.08> <00:17.10> have <00:17.17> <00:17.19> this <00:17.28> <00:17.30> talk <00:17.37> <00:17.40> with <00:17.48> <00:17.50> you <00:17.55>\n",
      "[00:17.58] <00:17.58> My <00:17.62> <00:17.64> happiness <00:17.82> <00:17.83> depends <00:17.98> <00:18.00> on <00:18.03> <00:18.05> you <00:18.12>\n",
      "[00:18.14] <00:18.14> And <00:18.19> <00:18.21> whatever <00:18.37> <00:18.40> you <00:18.46> <00:18.48> decide <00:18.60> <00:18.62> to <00:18.66> <00:18.67> do, <00:18.74> <00:18.76> Jolene <00:18.87>\n",
      "[00:18.90] <00:18.90> Jolene, <00:19.03> <00:19.05> Jolene, <00:19.19> <00:19.21> Jolene, <00:19.35> <00:19.37> Jolene <00:19.50>\n",
      "[00:19.51] <00:19.51> I'm <00:19.58> <00:19.60> begging <00:19.74> <00:19.76> of <00:19.80> <00:19.82> you, <00:19.90>\n",
      "[00:19.92] <00:19.92> please <00:20.03> <00:20.05> don't <00:20.16> <00:20.17> take <00:20.26> <00:20.28> my <00:20.32> <00:20.33> man <00:20.40>\n",
      "[00:20.42] <00:20.42> Jolene, <00:20.55> <00:20.58> Jolene, <00:20.71> <00:20.74> Jolene, <00:20.87> <00:20.90> Jolene <00:21.03>\n",
      "[00:21.05] <00:21.05> Please <00:21.17> <00:21.19> don't <00:21.30> <00:21.32> take <00:21.40> <00:21.42> him <00:21.48>\n",
      "[00:21.50] <00:21.50> even <00:21.58> <00:21.60> though <00:21.71> <00:21.74> you <00:21.80> <00:21.82> can <00:21.87>\n",
      "[00:21.90] <00:21.90> Jolene, <00:22.03> <00:22.05> Jolene <00:22.17>\n"
     ]
    }
   ],
   "source": [
    "from lsync import LyricsSync\n",
    "\n",
    "lsync = LyricsSync(lang=YOUR_MODEL_ID, blank_id=YOUR_MODEL_BLANK_ID)\n",
    "words, lrc = lsync.sync(audio_path, lyrics_path)\n",
    "print(lrc)"
   ]
  }
 ],
 "metadata": {
  "kernelspec": {
   "display_name": "lyrics-sync",
   "language": "python",
   "name": "python3"
  },
  "language_info": {
   "codemirror_mode": {
    "name": "ipython",
    "version": 3
   },
   "file_extension": ".py",
   "mimetype": "text/x-python",
   "name": "python",
   "nbconvert_exporter": "python",
   "pygments_lexer": "ipython3",
   "version": "3.10.16"
  },
  "orig_nbformat": 4
 },
 "nbformat": 4,
 "nbformat_minor": 2
}
